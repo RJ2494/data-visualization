{
  "nbformat": 4,
  "nbformat_minor": 0,
  "metadata": {
    "colab": {
      "name": "seaborn_countplot.ipynb",
      "provenance": [],
      "collapsed_sections": []
    },
    "kernelspec": {
      "name": "python3",
      "display_name": "Python 3"
    }
  },
  "cells": [
    {
      "cell_type": "code",
      "metadata": {
        "id": "wG1VpQgf4VrY",
        "colab_type": "code",
        "colab": {}
      },
      "source": [
        "import pandas as pd\n",
        "import numpy as np\n",
        "\n",
        "import matplotlib.pyplot as plt\n",
        "import seaborn as sns"
      ],
      "execution_count": 2,
      "outputs": []
    },
    {
      "cell_type": "code",
      "metadata": {
        "id": "uLVB8CoB8Y0R",
        "colab_type": "code",
        "colab": {}
      },
      "source": [
        "pd.set_option('display.width', 1000)\n",
        "pd.set_option('display.max_columns', 1000)\n",
        "pd.set_option('display.max_rows', 1000)\n",
        "pd.set_option('display.max_colwidth', 1000)"
      ],
      "execution_count": 3,
      "outputs": []
    },
    {
      "cell_type": "markdown",
      "metadata": {
        "id": "8Iw0aSEReFr1",
        "colab_type": "text"
      },
      "source": [
        "# Part 1"
      ]
    },
    {
      "cell_type": "markdown",
      "metadata": {
        "id": "dsP7UUhaOrHr",
        "colab_type": "text"
      },
      "source": [
        "## Capsicum Example"
      ]
    },
    {
      "cell_type": "markdown",
      "metadata": {
        "id": "mEBiYQ2p2G3Z",
        "colab_type": "text"
      },
      "source": [
        "### Draw a simple countplot"
      ]
    },
    {
      "cell_type": "code",
      "metadata": {
        "id": "SNdj7xP1L9BO",
        "colab_type": "code",
        "colab": {}
      },
      "source": [
        "# create dataset\n",
        "capsicum_data = ['green']*420 + ['yellow']*298 + ['orange']*267 + ['red']*405"
      ],
      "execution_count": 4,
      "outputs": []
    },
    {
      "cell_type": "code",
      "metadata": {
        "id": "pwQpDHRQOqpy",
        "colab_type": "code",
        "colab": {
          "base_uri": "https://localhost:8080/",
          "height": 265
        },
        "outputId": "ca673bb9-4f60-42bd-e82b-d3d7f9aadc96"
      },
      "source": [
        "sns.countplot(capsicum_data)\n",
        "plt.show()"
      ],
      "execution_count": 5,
      "outputs": [
        {
          "output_type": "display_data",
          "data": {
            "image/png": "[encoded data removed]",
            "text/plain": [
              "<Figure size 432x288 with 1 Axes>"
            ]
          },
          "metadata": {
            "tags": [],
            "needs_background": "light"
          }
        }
      ]
    },
    {
      "cell_type": "markdown",
      "metadata": {
        "id": "7bHCG2We2V4G",
        "colab_type": "text"
      },
      "source": [
        "The countplot function returns the matplotlib.axes.Axes class object with the plot drawn onto it. We can use this object to make our plot more informative and appealing. "
      ]
    },
    {
      "cell_type": "markdown",
      "metadata": {
        "colab_type": "text",
        "id": "Vmon9j_T2Zhc"
      },
      "source": [
        "### Coloring background and bars"
      ]
    },
    {
      "cell_type": "markdown",
      "metadata": {
        "id": "tz9-5mpP2dsh",
        "colab_type": "text"
      },
      "source": [
        "We start with displaying each category's bar in the plot with its corresponding color. In other words, we will show bar representing green capsicum with green color, bar representing red capsicum with red color etc. We will also set background color of the plot."
      ]
    },
    {
      "cell_type": "code",
      "metadata": {
        "id": "dei2xrthOqxE",
        "colab_type": "code",
        "colab": {
          "base_uri": "https://localhost:8080/",
          "height": 265
        },
        "outputId": "5be4fc4f-723c-4ea4-a84c-53524e77ca5e"
      },
      "source": [
        "ax = sns.countplot(capsicum_data)\n",
        "ax.set_facecolor('pink')\n",
        "\n",
        "for p, label in zip(ax.patches, ax.get_xticklabels()):\n",
        "    p.set_facecolor(label.get_text())"
      ],
      "execution_count": 6,
      "outputs": [
        {
          "output_type": "display_data",
          "data": {
            "image/png": "[encoded data removed]",
            "text/plain": [
              "<Figure size 432x288 with 1 Axes>"
            ]
          },
          "metadata": {
            "tags": [],
            "needs_background": "light"
          }
        }
      ]
    },
    {
      "cell_type": "markdown",
      "metadata": {
        "id": "Q0N-Hdgm2fbr",
        "colab_type": "text"
      },
      "source": [
        "* The `ax.set_facecolor()` function sets the background color of the entire countplot. \n",
        "\n",
        "* The `ax.patches` returns the patches for each of the four bars corresponding to four categories (here, colors) of capsicum. Using `for` loop, we can access each patch one by one and apply many functions on it.  We have applied one such function - `set_facecolor()` to set the color of each of the bar individually.\n",
        "\n",
        "* `ax.get_xticklabels()` is used to get the labels associated with x-axis ticks. A label associated with x-axis ticks is an object of class matplotlib.text.Text. We can get the actual value by using get_text() method of this class.\n",
        "> * `list(ax.get_xticklabels())` returns the following - \n",
        ">> [Text(0, 0, 'green'), Text(1, 0, 'yellow'), Text(2, 0, 'orange'), Text(3, 0, 'red')]\n",
        "> * `Text(0, 0, 'green').get_text()` returns 'green' which then can be used to set the color."
      ]
    },
    {
      "cell_type": "markdown",
      "metadata": {
        "colab_type": "text",
        "id": "HY3RJiOz3eEu"
      },
      "source": [
        "### Ordering the bars"
      ]
    },
    {
      "cell_type": "markdown",
      "metadata": {
        "id": "n1bc6tow3hmw",
        "colab_type": "text"
      },
      "source": [
        "We can specify the order in which each category should be displayed in the plot. The countplot function has a parameter - order - for this feature. "
      ]
    },
    {
      "cell_type": "code",
      "metadata": {
        "id": "MYRLR0OwmCUl",
        "colab_type": "code",
        "colab": {
          "base_uri": "https://localhost:8080/",
          "height": 279
        },
        "outputId": "71b9930c-5ea2-411e-f99c-3961bbd35e20"
      },
      "source": [
        "ax = sns.countplot(x=capsicum_data,\n",
        "                   order=['green', 'red', 'yellow', 'orange'])\n",
        "ax.set_facecolor('navy')\n",
        "ax.set_xlabel('Capsicum')\n",
        "\n",
        "for p, label in zip(ax.patches, ax.get_xticklabels()):\n",
        "    p.set_facecolor(label.get_text())"
      ],
      "execution_count": 7,
      "outputs": [
        {
          "output_type": "display_data",
          "data": {
            "image/png": "[encoded data removed]",
            "text/plain": [
              "<Figure size 432x288 with 1 Axes>"
            ]
          },
          "metadata": {
            "tags": [],
            "needs_background": "light"
          }
        }
      ]
    },
    {
      "cell_type": "markdown",
      "metadata": {
        "id": "rnKk5bJn3moS",
        "colab_type": "text"
      },
      "source": [
        "* We have passed a list of categories (colors) in the descending order of their counts. \n",
        "* Note that the first parameter of `countplot()` is x that accepts the capsicum data.\n",
        "* `ax.set_xlabel()` is used to label the x axis of the plot. Similarly, `ax.set_ylabel()` can be used for y axis."
      ]
    },
    {
      "cell_type": "markdown",
      "metadata": {
        "colab_type": "text",
        "id": "VLi4nkS75It_"
      },
      "source": [
        "### Horizontal Countplot"
      ]
    },
    {
      "cell_type": "markdown",
      "metadata": {
        "id": "BFhusElPNshp",
        "colab_type": "text"
      },
      "source": [
        "In some cases, displaying horizontal bars may be more appealing to visuals than the vertical ones. Seaborn's countplot has a parameter - `y` - for that purpose. Instead of passing the capsicum data to `x`, we can pass it to `y` to show the bars horizontally."
      ]
    },
    {
      "cell_type": "code",
      "metadata": {
        "id": "9-sGGCI7_Yrt",
        "colab_type": "code",
        "colab": {
          "base_uri": "https://localhost:8080/",
          "height": 279
        },
        "outputId": "f3e5d026-40c3-427e-e5f0-e06920190005"
      },
      "source": [
        "ax = sns.countplot(y=capsicum_data, \n",
        "                   order=['green', 'red', 'yellow', 'orange'])\n",
        "ax.set_facecolor('white')\n",
        "ax.set_xlabel('Count')\n",
        "ax.set_ylabel('Capsicum')\n",
        "\n",
        "for p, label in zip(ax.patches, ax.get_yticklabels()):\n",
        "    p.set_facecolor(label.get_text())\n",
        "    p.set_alpha(0.3)\n",
        "    p.set_edgecolor('blue')"
      ],
      "execution_count": 8,
      "outputs": [
        {
          "output_type": "display_data",
          "data": {
            "image/png": "[encoded data removed]",
            "text/plain": [
              "<Figure size 432x288 with 1 Axes>"
            ]
          },
          "metadata": {
            "tags": [],
            "needs_background": "light"
          }
        }
      ]
    },
    {
      "cell_type": "markdown",
      "metadata": {
        "id": "i2WckReuN7w6",
        "colab_type": "text"
      },
      "source": [
        "* Now x-axis represents the counts and y-axis represents the categories. We have set the label accordingly.\n",
        "* p.set_alpha() is used to add transparency in the color. It takes a real value in the range [0, 1], where 0 mean full transparency and 1 means no transparency. \n",
        "* p.set_edgecolor() colors the edges of a bar with the color passed."
      ]
    },
    {
      "cell_type": "markdown",
      "metadata": {
        "colab_type": "text",
        "id": "C7knjkPk3x0E"
      },
      "source": [
        "### Showing counts of each category"
      ]
    },
    {
      "cell_type": "markdown",
      "metadata": {
        "id": "BZLjG06L318r",
        "colab_type": "text"
      },
      "source": [
        "Displaying the count of each category at the head of its corresponding bar makes the countplot more informative and objective. Let's try to achieve the same."
      ]
    },
    {
      "cell_type": "code",
      "metadata": {
        "id": "yVnaA1hE3aeC",
        "colab_type": "code",
        "colab": {
          "base_uri": "https://localhost:8080/",
          "height": 279
        },
        "outputId": "b1c8fec6-85db-4545-9ea5-9d67e9c0c9b7"
      },
      "source": [
        "ax = sns.countplot(x=capsicum_data, \n",
        "                   order=['green', 'red', 'yellow', 'orange'])\n",
        "ax.set(xlabel='CAPSICUM', ylabel='COUNT', fc='#FF8080')\n",
        "\n",
        "for p, label in zip(ax.patches, ax.get_xticklabels()):\n",
        "    p.set(alpha=0.6, fc=label.get_text(), ec='cyan')\n",
        "    ax.annotate(\"{}\".format(p.get_height()), \n",
        "                (p.get_x(), p.get_height()))"
      ],
      "execution_count": 9,
      "outputs": [
        {
          "output_type": "display_data",
          "data": {
            "image/png": "[encoded data removed]",
            "text/plain": [
              "<Figure size 432x288 with 1 Axes>"
            ]
          },
          "metadata": {
            "tags": [],
            "needs_background": "light"
          }
        }
      ]
    },
    {
      "cell_type": "markdown",
      "metadata": {
        "id": "jZdSj6yaOIOb",
        "colab_type": "text"
      },
      "source": [
        "* `ax.annotate()` has its first two parameters mandatory. The first parameter expects the text we want to annotate the plot with and the second one expects the x-y coordinates in pair on the plot where we want to display the count .\n",
        "`p.get_x()` returns the x coordinate of a patch.\n",
        "* Since we want to display the count of each of the categories at the top of their respective bars and the height of a bar is equal to the count of the category it represents. `p.get_height()` function returns the height of a patch (bar, in this case). The height value works as both the text and y-coordinate.\n",
        "* `ax.set()` and `p.set()` offers the capability to specify the values of multiple features of a plot and a patch respectively, in one function call.\n",
        "* fc and ec are short form for facecolor and edgecolor respectively."
      ]
    },
    {
      "cell_type": "markdown",
      "metadata": {
        "id": "52RfXskxbdIy",
        "colab_type": "text"
      },
      "source": [
        "### Enhancing the visualization of counts"
      ]
    },
    {
      "cell_type": "markdown",
      "metadata": {
        "id": "QZB-Hf4MuVM9",
        "colab_type": "text"
      },
      "source": [
        "We can certainly improve the countplot in many ways such as font size, alignment of count values, text color etc. Let's beautify our countplot."
      ]
    },
    {
      "cell_type": "code",
      "metadata": {
        "id": "QoAWudv_cJBx",
        "colab_type": "code",
        "colab": {
          "base_uri": "https://localhost:8080/",
          "height": 291
        },
        "outputId": "38f920a1-6366-45f7-e360-76c52987e423"
      },
      "source": [
        "order = ['green', 'red', 'yellow', 'orange']\n",
        "colors = xticklabels = [label.title() for label in order]\n",
        "\n",
        "ax = sns.countplot(x=capsicum_data, order=order)\n",
        "ax.set_xlabel('CAPSICUM', fontsize=12, color='g')\n",
        "ax.set_ylabel('COUNT', fontsize=12, color='b')\n",
        "ax.set_xticklabels(xticklabels, fontsize=15)\n",
        "ax.spines['top'].set_visible(False)\n",
        "ax.spines['right'].set_visible(False)\n",
        "\n",
        "for idx, (p, label) in enumerate(zip(ax.patches, ax.get_xticklabels())):\n",
        "    p.set(alpha=0.8, fc=label.get_text(), ec='magenta')\n",
        "    ax.annotate(\"{}\".format(p.get_height()), \n",
        "                (p.get_x()+0.25, p.get_height()+5), \n",
        "                fontsize=15, color=colors[idx])"
      ],
      "execution_count": 10,
      "outputs": [
        {
          "output_type": "display_data",
          "data": {
            "image/png": "[encoded data removed]",
            "text/plain": [
              "<Figure size 432x288 with 1 Axes>"
            ]
          },
          "metadata": {
            "tags": [],
            "needs_background": "light"
          }
        }
      ]
    },
    {
      "cell_type": "markdown",
      "metadata": {
        "id": "oevQKm5ruWLu",
        "colab_type": "text"
      },
      "source": [
        "* The x-axis and y-axis labels are color-coded and font-size is increased.\n",
        "* The ticklabels of x-axis is now title-cased with increased font-size.\n",
        "* The removal of top side boundary of the plot using `ax.spines` enables us to display the counts with increased font-size and sensible colors. Similarly, we can remove boundaries from other sides as well, if required.\n",
        "* `ax.annotate()` function has been passed with two additional parameters fontsize and color to give each count a specific font-size and color. We can manually adjust the value of x and y coordinates where the counts of each capsicum-color are displayed."
      ]
    },
    {
      "cell_type": "markdown",
      "metadata": {
        "colab_type": "text",
        "id": "eQ_f_Yl6OlFG"
      },
      "source": [
        "### Horizontal countplot with enhanced visualization"
      ]
    },
    {
      "cell_type": "code",
      "metadata": {
        "id": "kzoqGBLTSyyT",
        "colab_type": "code",
        "colab": {
          "base_uri": "https://localhost:8080/",
          "height": 282
        },
        "outputId": "dc9f2eef-f316-49eb-9d08-cea2b3adf5ca"
      },
      "source": [
        "yticklabels = [label.title() for label in order]\n",
        "ax = sns.countplot(y=capsicum_data, order=order)\n",
        "ax.set_xlabel('COUNT', fontsize=12, color='b')\n",
        "ax.set_ylabel('CAPSICUM', fontsize=12, color='g')\n",
        "ax.set_yticklabels(yticklabels, fontsize=15)\n",
        "ax.spines['top'].set_visible(False)\n",
        "ax.spines['right'].set_visible(False)\n",
        "\n",
        "for idx, (p, label) in enumerate(zip(ax.patches, ax.get_yticklabels())):\n",
        "    p.set(alpha=0.8, fc=label.get_text(), ec='magenta')\n",
        "    ax.annotate(\"{}\".format(p.get_width()), \n",
        "                (p.get_width()-50, p.get_y()+0.5),\n",
        "                fontsize=15, color='purple')"
      ],
      "execution_count": 11,
      "outputs": [
        {
          "output_type": "display_data",
          "data": {
            "image/png": "[encoded data removed]",
            "text/plain": [
              "<Figure size 432x288 with 1 Axes>"
            ]
          },
          "metadata": {
            "tags": [],
            "needs_background": "light"
          }
        }
      ]
    },
    {
      "cell_type": "markdown",
      "metadata": {
        "id": "-edQ-BQQKvA8",
        "colab_type": "text"
      },
      "source": [
        "* The functions - ax.get_xticklabels, p.get_x() and p.get_height() are replaced with ax.get_yticklabels(), p.get_y() and p.get_width() respectively in case of horizontal countplot.\n",
        "* It is better to display the counts inside the bars in horizontal countplot in order to keep the visualization concise and good-looking."
      ]
    },
    {
      "cell_type": "markdown",
      "metadata": {
        "id": "FwS9OikXi6hU",
        "colab_type": "text"
      },
      "source": [
        "---\n",
        "---"
      ]
    },
    {
      "cell_type": "markdown",
      "metadata": {
        "id": "XERkYoHeeCEg",
        "colab_type": "text"
      },
      "source": [
        "# Part 2\n"
      ]
    },
    {
      "cell_type": "markdown",
      "metadata": {
        "id": "A73nZePBd-1y",
        "colab_type": "text"
      },
      "source": [
        "Sometimes it is required to visualize the frequency distribution of a categorical variable with respect to the values of another categorical value. For example, a company launches a new product in the market with three variants. After one financial year of its launch, the company wants to find out the quantities sold in each quarter for each of its three variants. Here, we have one categorical variable, quarter number, which has the values – 1, 2, 3, 4, and another categorical variable, the product, which has three variants – v1, v2, v3.\n",
        "\n",
        "We can have these types of variables as columns in a pandas dataframe that can be used as a data to be passed to countplot function. The support of pandas dataframe in countplot function is of great help because most of the time, exploratory data analysis is performed using dataframes.\n",
        "Let’s take the following movies data. This data has the six columns and 440 number of rows. Shown below is the first few rows of the data."
      ]
    },
    {
      "cell_type": "code",
      "metadata": {
        "id": "4w6dg8rv8Y2j",
        "colab_type": "code",
        "colab": {
          "base_uri": "https://localhost:8080/",
          "height": 309
        },
        "outputId": "3ad4973d-0ecc-417d-90ce-72483a18be19"
      },
      "source": [
        "url = \"https://gist.github.com/RJ2494/003d8e24c2b314853e68f7816f167255/archive/f608f2f9b4dec13db0f7f63021dd8096fdde9cac.zip\"\n",
        "!wget $url"
      ],
      "execution_count": 12,
      "outputs": [
        {
          "output_type": "stream",
          "text": [
            "--2020-06-21 20:25:03--  https://gist.github.com/RJ2494/003d8e24c2b314853e68f7816f167255/archive/f608f2f9b4dec13db0f7f63021dd8096fdde9cac.zip\n",
            "Resolving gist.github.com (gist.github.com)... 140.82.118.3\n",
            "Connecting to gist.github.com (gist.github.com)|140.82.118.3|:443... connected.\n",
            "HTTP request sent, awaiting response... 302 Found\n",
            "Location: https://codeload.github.com/gist/003d8e24c2b314853e68f7816f167255/zip/f608f2f9b4dec13db0f7f63021dd8096fdde9cac [following]\n",
            "--2020-06-21 20:25:04--  https://codeload.github.com/gist/003d8e24c2b314853e68f7816f167255/zip/f608f2f9b4dec13db0f7f63021dd8096fdde9cac\n",
            "Resolving codeload.github.com (codeload.github.com)... 140.82.112.10\n",
            "Connecting to codeload.github.com (codeload.github.com)|140.82.112.10|:443... connected.\n",
            "HTTP request sent, awaiting response... 200 OK\n",
            "Length: unspecified [application/zip]\n",
            "Saving to: ‘f608f2f9b4dec13db0f7f63021dd8096fdde9cac.zip’\n",
            "\n",
            "\r          f608f2f9b     [<=>                 ]       0  --.-KB/s               \rf608f2f9b4dec13db0f     [ <=>                ]   5.50K  --.-KB/s    in 0s      \n",
            "\n",
            "2020-06-21 20:25:04 (35.9 MB/s) - ‘f608f2f9b4dec13db0f7f63021dd8096fdde9cac.zip’ saved [5636]\n",
            "\n"
          ],
          "name": "stdout"
        }
      ]
    },
    {
      "cell_type": "code",
      "metadata": {
        "id": "csJn15UVxVi6",
        "colab_type": "code",
        "colab": {
          "base_uri": "https://localhost:8080/",
          "height": 85
        },
        "outputId": "9f8f4b19-b3b3-4030-834b-601bba0b6a0f"
      },
      "source": [
        "!unzip f608f2f9b4dec13db0f7f63021dd8096fdde9cac.zip "
      ],
      "execution_count": 13,
      "outputs": [
        {
          "output_type": "stream",
          "text": [
            "Archive:  f608f2f9b4dec13db0f7f63021dd8096fdde9cac.zip\n",
            "f608f2f9b4dec13db0f7f63021dd8096fdde9cac\n",
            "   creating: 003d8e24c2b314853e68f7816f167255-f608f2f9b4dec13db0f7f63021dd8096fdde9cac/\n",
            "  inflating: 003d8e24c2b314853e68f7816f167255-f608f2f9b4dec13db0f7f63021dd8096fdde9cac/movie_data.csv  \n"
          ],
          "name": "stdout"
        }
      ]
    },
    {
      "cell_type": "code",
      "metadata": {
        "id": "v15e8N8Qr0Zy",
        "colab_type": "code",
        "colab": {}
      },
      "source": [
        "!mv  003d8e24c2b314853e68f7816f167255-f608f2f9b4dec13db0f7f63021dd8096fdde9cac movie_data"
      ],
      "execution_count": 14,
      "outputs": []
    },
    {
      "cell_type": "code",
      "metadata": {
        "id": "GkA-Z6A3kNfQ",
        "colab_type": "code",
        "colab": {
          "base_uri": "https://localhost:8080/",
          "height": 102
        },
        "outputId": "9ffe46db-7f7c-4972-fff6-916b8b86196f"
      },
      "source": [
        "!head -5 ./movie_data/movie_data.csv"
      ],
      "execution_count": 15,
      "outputs": [
        {
          "output_type": "stream",
          "text": [
            "Title,Release Year,Color/B&W,Genre,Language,Country\n",
            "21 Jump Street,2012,Color,Action,English,USA\n",
            "A Thousand Words,2012,Color,Comedy,English,USA\n",
            "Abraham Lincoln: Vampire Hunter,2012,Color,Action,English,USA\n",
            "Act of Valor,2012,Color,Action,English,USA\n"
          ],
          "name": "stdout"
        }
      ]
    },
    {
      "cell_type": "code",
      "metadata": {
        "id": "2WJ-j_xt_Iba",
        "colab_type": "code",
        "colab": {
          "base_uri": "https://localhost:8080/",
          "height": 34
        },
        "outputId": "4c9be640-2b32-42f9-9ed5-2dee3a065fb4"
      },
      "source": [
        "df = pd.read_csv('./movie_data/movie_data.csv', sep=',')\n",
        "df.shape    "
      ],
      "execution_count": 16,
      "outputs": [
        {
          "output_type": "execute_result",
          "data": {
            "text/plain": [
              "(439, 6)"
            ]
          },
          "metadata": {
            "tags": []
          },
          "execution_count": 16
        }
      ]
    },
    {
      "cell_type": "code",
      "metadata": {
        "id": "jp7RTIyu_YdL",
        "colab_type": "code",
        "colab": {
          "base_uri": "https://localhost:8080/",
          "height": 34
        },
        "outputId": "bd67d5ff-099f-4e15-a35b-7139d4b88b77"
      },
      "source": [
        "df.columns"
      ],
      "execution_count": 17,
      "outputs": [
        {
          "output_type": "execute_result",
          "data": {
            "text/plain": [
              "Index(['Title', 'Release Year', 'Color/B&W', 'Genre', 'Language', 'Country'], dtype='object')"
            ]
          },
          "metadata": {
            "tags": []
          },
          "execution_count": 17
        }
      ]
    },
    {
      "cell_type": "code",
      "metadata": {
        "id": "nr8aVEavybY_",
        "colab_type": "code",
        "colab": {
          "base_uri": "https://localhost:8080/",
          "height": 204
        },
        "outputId": "d0fa45fc-b92f-4a78-b4fa-8e27be693a01"
      },
      "source": [
        "df.head()"
      ],
      "execution_count": 18,
      "outputs": [
        {
          "output_type": "execute_result",
          "data": {
            "text/html": [
              "<div>\n",
              "<style scoped>\n",
              "    .dataframe tbody tr th:only-of-type {\n",
              "        vertical-align: middle;\n",
              "    }\n",
              "\n",
              "    .dataframe tbody tr th {\n",
              "        vertical-align: top;\n",
              "    }\n",
              "\n",
              "    .dataframe thead th {\n",
              "        text-align: right;\n",
              "    }\n",
              "</style>\n",
              "<table border=\"1\" class=\"dataframe\">\n",
              "  <thead>\n",
              "    <tr style=\"text-align: right;\">\n",
              "      <th></th>\n",
              "      <th>Title</th>\n",
              "      <th>Release Year</th>\n",
              "      <th>Color/B&amp;W</th>\n",
              "      <th>Genre</th>\n",
              "      <th>Language</th>\n",
              "      <th>Country</th>\n",
              "    </tr>\n",
              "  </thead>\n",
              "  <tbody>\n",
              "    <tr>\n",
              "      <th>0</th>\n",
              "      <td>21 Jump Street</td>\n",
              "      <td>2012</td>\n",
              "      <td>Color</td>\n",
              "      <td>Action</td>\n",
              "      <td>English</td>\n",
              "      <td>USA</td>\n",
              "    </tr>\n",
              "    <tr>\n",
              "      <th>1</th>\n",
              "      <td>A Thousand Words</td>\n",
              "      <td>2012</td>\n",
              "      <td>Color</td>\n",
              "      <td>Comedy</td>\n",
              "      <td>English</td>\n",
              "      <td>USA</td>\n",
              "    </tr>\n",
              "    <tr>\n",
              "      <th>2</th>\n",
              "      <td>Abraham Lincoln: Vampire Hunter</td>\n",
              "      <td>2012</td>\n",
              "      <td>Color</td>\n",
              "      <td>Action</td>\n",
              "      <td>English</td>\n",
              "      <td>USA</td>\n",
              "    </tr>\n",
              "    <tr>\n",
              "      <th>3</th>\n",
              "      <td>Act of Valor</td>\n",
              "      <td>2012</td>\n",
              "      <td>Color</td>\n",
              "      <td>Action</td>\n",
              "      <td>English</td>\n",
              "      <td>USA</td>\n",
              "    </tr>\n",
              "    <tr>\n",
              "      <th>4</th>\n",
              "      <td>Alex Cross</td>\n",
              "      <td>2012</td>\n",
              "      <td>Color</td>\n",
              "      <td>Action</td>\n",
              "      <td>English</td>\n",
              "      <td>USA</td>\n",
              "    </tr>\n",
              "  </tbody>\n",
              "</table>\n",
              "</div>"
            ],
            "text/plain": [
              "                             Title  Release Year Color/B&W   Genre Language Country\n",
              "0                   21 Jump Street          2012     Color  Action  English     USA\n",
              "1                 A Thousand Words          2012     Color  Comedy  English     USA\n",
              "2  Abraham Lincoln: Vampire Hunter          2012     Color  Action  English     USA\n",
              "3                     Act of Valor          2012     Color  Action  English     USA\n",
              "4                       Alex Cross          2012     Color  Action  English     USA"
            ]
          },
          "metadata": {
            "tags": []
          },
          "execution_count": 18
        }
      ]
    },
    {
      "cell_type": "markdown",
      "metadata": {
        "id": "OcSAIppAeWkX",
        "colab_type": "text"
      },
      "source": [
        "Let’s begin by considering two categorical features – ‘Release Year’ which has four values and ‘Color/B&W’ which has two values. Let’s draw a countplot to show the counts of black & white and color movies in each of the four release years."
      ]
    },
    {
      "cell_type": "code",
      "metadata": {
        "id": "oUT8Xuc__Yfx",
        "colab_type": "code",
        "colab": {
          "base_uri": "https://localhost:8080/",
          "height": 292
        },
        "outputId": "d06599fa-3d17-4910-9b6f-4f983681f34e"
      },
      "source": [
        "ax = sns.countplot(x='Release Year', data=df, hue='Color/B&W')\n",
        "ax.set_xlabel('Release Year', fontsize=12, color='g')\n",
        "ax.set_ylabel('Movie Count', fontsize=12, color='b')\n",
        "ax.set_xticklabels(ax.get_xticklabels(), fontsize=15)\n",
        "ax.spines['top'].set_visible(False)\n",
        "ax.spines['right'].set_visible(False)\n",
        "ax.legend(loc='best')\n",
        "\n",
        "for idx, p in enumerate(ax.patches):\n",
        "    ax.annotate(\"{}\".format(p.get_height()), \n",
        "                (p.get_x()+0.02, p.get_height()+2), \n",
        "                fontsize=15, color='teal')"
      ],
      "execution_count": 19,
      "outputs": [
        {
          "output_type": "display_data",
          "data": {
            "image/png": "[encoded data removed]",
            "text/plain": [
              "<Figure size 432x288 with 1 Axes>"
            ]
          },
          "metadata": {
            "tags": [],
            "needs_background": "light"
          }
        }
      ]
    },
    {
      "cell_type": "markdown",
      "metadata": {
        "id": "cGh-2Lv3eaJs",
        "colab_type": "text"
      },
      "source": [
        "* We have used three parameters of countplot function –\n",
        "> * **`x`** – It takes the column name of the categorical feature whose values will be shown on x-axis\n",
        "> * **`hue`** – It takes the column name of the categorical feature of which we have to display the count.\n",
        "> * **`data`** – It takes the dataframe which contains the above two features as its columns.\n",
        "* The `ax.legend()` function is used to display the legends associated with each colored bar in the plot.\n",
        "* Note that we can also pass to the parameters `x` and `hue` the `df['Release Year']` and `df['Color/B&W']` directly. In that case we don’t need to supply any value to `data` parameter."
      ]
    },
    {
      "cell_type": "markdown",
      "metadata": {
        "id": "iEGc-1-Pe7Hy",
        "colab_type": "text"
      },
      "source": [
        "Let’s now consider another example where we have to display the counts of movies under each genres for all the years."
      ]
    },
    {
      "cell_type": "code",
      "metadata": {
        "id": "9TKgZwJq_YpC",
        "colab_type": "code",
        "colab": {
          "base_uri": "https://localhost:8080/",
          "height": 344
        },
        "outputId": "c7430c6c-b453-49b8-9b65-b0a01027e78d"
      },
      "source": [
        "ax = sns.countplot(x='Release Year', data=df, hue='Genre')\n",
        "ax.figure.set(figwidth=8, figheight=3, dpi=105)\n",
        "ax.set_xlabel('Release Year', fontsize=12, color='g')\n",
        "ax.set_ylabel('Movie Count', fontsize=12, color='b')\n",
        "ax.set_xticklabels(ax.get_xticklabels(), fontsize=15)\n",
        "ax.spines['top'].set_visible(False)\n",
        "ax.spines['right'].set_visible(False)\n",
        "ax.legend(loc='upper right', fontsize=7)\n",
        "\n",
        "for idx, p in enumerate(ax.patches):\n",
        "    freq = 0 if np.isnan(p.get_height()) else int(p.get_height())\n",
        "    ax.annotate(\"{}\".format(freq),\n",
        "                (p.get_x()+0.02, freq+1), \n",
        "                fontsize=10, color='teal', rotation=45)"
      ],
      "execution_count": 20,
      "outputs": [
        {
          "output_type": "display_data",
          "data": {
            "image/png": "[encoded data removed]",
            "text/plain": [
              "<Figure size 840x315 with 1 Axes>"
            ]
          },
          "metadata": {
            "tags": [],
            "needs_background": "light"
          }
        }
      ]
    },
    {
      "cell_type": "markdown",
      "metadata": {
        "id": "VdlY8RiXe_aW",
        "colab_type": "text"
      },
      "source": [
        "* Note the use of rotation parameter in `ax.annnotate()` function. The default value is 0 (degree). We can rotate the text annotated on the plot according to our needs using this parameter."
      ]
    },
    {
      "cell_type": "markdown",
      "metadata": {
        "id": "ZC8eTHuCfEJ5",
        "colab_type": "text"
      },
      "source": [
        "Let’s take the last example of this article where we will draw the horizontal countplot to show the counts of movies under each year for all genres. The precondition is that the it should be color movies and released in USA."
      ]
    },
    {
      "cell_type": "code",
      "metadata": {
        "id": "xxI8Xccgi5-R",
        "colab_type": "code",
        "colab": {
          "base_uri": "https://localhost:8080/",
          "height": 611
        },
        "outputId": "94a4be55-1ab6-46ff-9efe-aea9a7a7ff8a"
      },
      "source": [
        "df_sub = df[(df.Country == 'USA') & (df['Color/B&W'] == 'Color')]\n",
        "ax = sns.countplot(y='Genre', data=df_sub, hue='Release Year')\n",
        "ax.figure.set(figwidth=10, figheight=10)\n",
        "ax.set_xlabel('Movie Count', fontsize=15, color='g')\n",
        "ax.set_ylabel('Genre', fontsize=15, color='b')\n",
        "ax.set_yticklabels(ax.get_yticklabels(), fontsize=15, color='#FF8080')\n",
        "ax.spines['top'].set_visible(False)\n",
        "ax.spines['right'].set_visible(False)\n",
        "ax.legend(loc='best', fontsize=15)\n",
        "\n",
        "for idx, p in enumerate(ax.patches):\n",
        "    freq = 0 if np.isnan(p.get_width()) else int(p.get_width())\n",
        "    ax.annotate(\"{}\".format(freq), \n",
        "                (freq+0.2, p.get_y()+0.15), \n",
        "                fontsize=12, color='navy', rotation=0)"
      ],
      "execution_count": 21,
      "outputs": [
        {
          "output_type": "display_data",
          "data": {
            "image/png": "[encoded data removed]",
            "text/plain": [
              "<Figure size 720x720 with 1 Axes>"
            ]
          },
          "metadata": {
            "tags": []
          }
        }
      ]
    },
    {
      "cell_type": "markdown",
      "metadata": {
        "id": "LyGcYCwCfGyt",
        "colab_type": "text"
      },
      "source": [
        "In this Notebook, we have learnt many useful applications of Seaborn’s countplot. We have demonstrated the use of hue parameter to visualize the counts of two related categorical features. We have also used pandas dataframe in countplot function to visualize the counts of various categorical features."
      ]
    },
    {
      "cell_type": "markdown",
      "metadata": {
        "id": "weCGm3MqfKf6",
        "colab_type": "text"
      },
      "source": [
        "---\n",
        "**The End**\n",
        "\n",
        "---"
      ]
    }
  ]
}